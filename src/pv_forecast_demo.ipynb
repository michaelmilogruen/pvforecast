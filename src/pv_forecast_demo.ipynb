{
 "cells": [
  {
   "cell_type": "markdown",
   "metadata": {},
   "source": [
    "# PV Power Forecasting with LSTM\n",
    "\n",
    "This notebook demonstrates how to use the LSTM-based model for photovoltaic (PV) power forecasting. The model predicts power output for the next 24 hours based on historical data and weather forecasts.\n",
    "\n",
    "## Overview\n",
    "\n",
    "The forecasting process involves:\n",
    "1. Loading a pre-trained LSTM model and corresponding scalers\n",
    "2. Obtaining historical data for the initial sequence\n",
    "3. Fetching weather forecast data for the prediction horizon\n",
    "4. Processing and scaling the data appropriately\n",
    "5. Iteratively predicting the power output one hour at a time\n",
    "6. Visualizing and analyzing the results\n",
    "\n",
    "Let's begin by importing the required modules."
   ]
  },
  {
   "cell_type": "code",
   "execution_count": null,
   "metadata": {},
   "outputs": [],
   "source": [
    "import pandas as pd\n",
    "import numpy as np\n",
    "import matplotlib.pyplot as plt\n",
    "import seaborn as sns\n",
    "from datetime import datetime, timedelta\n",
    "import os\n",
    "\n",
    "# Import our custom inference module\n",
    "from lstm_lowres_inference import LSTMLowResInference\n",
    "\n",
    "# Set plotting style\n",
    "sns.set_style('whitegrid')\n",
    "plt.rcParams['figure.figsize'] = (12, 6)\n",
    "plt.rcParams['font.size'] = 12"
   ]
  },
  {
   "cell_type": "markdown",
   "metadata": {},
   "source": [
    "## 1. Initialize the Forecaster\n",
    "\n",
    "First, we create an instance of the `LSTMLowResInference` class. This will automatically load the most recent trained model and its corresponding scalers."
   ]
  },
  {
   "cell_type": "code",
   "execution_count": null,
   "metadata": {},
   "outputs": [],
   "source": [
    "# Create forecaster with default sequence length (24 hours)\n",
    "forecaster = LSTMLowResInference()\n",
    "\n",
    "# Print model information\n",
    "print(\"Model summary:\")\n",
    "forecaster.model.summary()"
   ]
  },
  {
   "cell_type": "markdown",
   "metadata": {},
   "source": [
    "## 2. Examine Historical Data\n",
    "\n",
    "Let's load and explore the historical data that will be used as the initial sequence for our forecast."
   ]
  },
  {
   "cell_type": "code",
   "execution_count": null,
   "metadata": {},
   "outputs": [],
   "source": [
    "# Load the most recent sequence of historical data\n",
    "historical_data = forecaster.load_historical_data()\n",
    "\n",
    "# Display the first few rows\n",
    "print(f\"Historical data shape: {historical_data.shape}\")\n",
    "historical_data.head()"
   ]
  },
  {
   "cell_type": "code",
   "execution_count": null,
   "metadata": {},
   "outputs": [],
   "source": [
    "# Plot historical power data\n",
    "plt.figure(figsize=(12, 6))\n",
    "plt.plot(historical_data.index, historical_data['power_w'], 'b-', linewidth=2)\n",
    "plt.title('Recent Historical PV Power Output', fontsize=16)\n",
    "plt.xlabel('Time', fontsize=12)\n",
    "plt.ylabel('Power (W)', fontsize=12)\n",
    "plt.grid(True, linestyle='--', alpha=0.7)\n",
    "plt.gcf().autofmt_xdate()\n",
    "plt.tight_layout()\n",
    "plt.show()"
   ]
  },
  {
   "cell_type": "markdown",
   "metadata": {},
   "source": [
    "## 3. Get Weather Forecast Data\n",
    "\n",
    "Now we need to fetch weather forecast data for the prediction horizon (next 24 hours)."
   ]
  },
  {
   "cell_type": "code",
   "execution_count": null,
   "metadata": {},
   "outputs": [],
   "source": [
    "# Fetch weather forecast for next 24 hours\n",
    "forecast_data = forecaster.fetch_weather_forecast(hours=24)\n",
    "\n",
    "# Display forecast data\n",
    "print(f\"Forecast data shape: {forecast_data.shape}\")\n",
    "forecast_data.head()"
   ]
  },
  {
   "cell_type": "code",
   "execution_count": null,
   "metadata": {},
   "outputs": [],
   "source": [
    "# Plot forecasted weather parameters\n",
    "fig, axs = plt.subplots(3, 1, figsize=(12, 12), sharex=True)\n",
    "\n",
    "# Plot global radiation\n",
    "axs[0].plot(forecast_data.index, forecast_data['GlobalRadiation [W m-2]'], 'r-', linewidth=2)\n",
    "axs[0].set_title('Forecasted Global Radiation', fontsize=14)\n",
    "axs[0].set_ylabel('Radiation (W/m²)', fontsize=12)\n",
    "axs[0].grid(True, linestyle='--', alpha=0.7)\n",
    "\n",
    "# Plot temperature\n",
    "axs[1].plot(forecast_data.index, forecast_data['Temperature [degree_Celsius]'], 'g-', linewidth=2)\n",
    "axs[1].set_title('Forecasted Temperature', fontsize=14)\n",
    "axs[1].set_ylabel('Temperature (°C)', fontsize=12)\n",
    "axs[1].grid(True, linestyle='--', alpha=0.7)\n",
    "\n",
    "# Plot clear sky index (or cloud cover)\n",
    "if 'ClearSkyIndex' in forecast_data.columns:\n",
    "    axs[2].plot(forecast_data.index, forecast_data['ClearSkyIndex'], 'b-', linewidth=2)\n",
    "    axs[2].set_title('Forecasted Clear Sky Index', fontsize=14)\n",
    "    axs[2].set_ylabel('Clear Sky Index', fontsize=12)\n",
    "else:\n",
    "    axs[2].plot(forecast_data.index, forecast_data['total_cloud_cover'], 'b-', linewidth=2)\n",
    "    axs[2].set_title('Forecasted Cloud Cover', fontsize=14)\n",
    "    axs[2].set_ylabel('Cloud Cover', fontsize=12)\n",
    "axs[2].grid(True, linestyle='--', alpha=0.7)\n",
    "axs[2].set_xlabel('Time', fontsize=12)\n",
    "\n",
    "plt.gcf().autofmt_xdate()\n",
    "plt.tight_layout()\n",
    "plt.show()"
   ]
  },
  {
   "cell_type": "markdown",
   "metadata": {},
   "source": [
    "## 4. Process and Prepare Data\n",
    "\n",
    "We need to add derived features and scale the data appropriately before feeding it to the model."
   ]
  },
  {
   "cell_type": "code",
   "execution_count": null,
   "metadata": {},
   "outputs": [],
   "source": [
    "# Add derived features to historical data\n",
    "historical_data_with_features = forecaster.calculate_derived_features(historical_data)\n",
    "\n",
    "# Add derived features to forecast data\n",
    "forecast_data_with_features = forecaster.calculate_derived_features(forecast_data)\n",
    "\n",
    "# Display derived features\n",
    "print(\"Derived features for historical data:\")\n",
    "historical_data_with_features[['hour_sin', 'hour_cos', 'day_sin', 'day_cos', 'isNight', 'ClearSkyIndex']].head()"
   ]
  },
  {
   "cell_type": "markdown",
   "metadata": {},
   "source": [
    "## 5. Generate 24-Hour Forecast\n",
    "\n",
    "Now we'll run the forecasting algorithm to predict the next 24 hours of PV power output."
   ]
  },
  {
   "cell_type": "code",
   "execution_count": null,
   "metadata": {},
   "outputs": [],
   "source": [
    "# Run the full forecast pipeline\n",
    "forecast_results = forecaster.predict_next_24h()\n",
    "\n",
    "# Display the forecast results\n",
    "forecaster.display_forecast(forecast_results)"
   ]
  },
  {
   "cell_type": "markdown",
   "metadata": {},
   "source": [
    "## 6. Visualize the Forecast\n",
    "\n",
    "Let's create detailed visualizations of the forecast results."
   ]
  },
  {
   "cell_type": "code",
   "execution_count": null,
   "metadata": {},
   "outputs": [],
   "source": [
    "# Plot the standard forecast\n",
    "forecaster.plot_forecast(forecast_results)"
   ]
  },
  {
   "cell_type": "code",
   "execution_count": null,
   "metadata": {},
   "outputs": [],
   "source": [
    "# Create a more detailed visualization\n",
    "plt.figure(figsize=(14, 8))\n",
    "\n",
    "# Plot power output\n",
    "plt.plot(forecast_results.index, forecast_results['power_w'], 'b-', linewidth=3, label='Predicted Power')\n",
    "\n",
    "# Add confidence interval (hypothetical - for demonstration)\n",
    "upper_bound = forecast_results['power_w'] * 1.2\n",
    "lower_bound = forecast_results['power_w'] * 0.8\n",
    "plt.fill_between(forecast_results.index, lower_bound, upper_bound, color='blue', alpha=0.2, \n",
    "                 label='Confidence Interval (±20%)')\n",
    "\n",
    "# Add day/night shading\n",
    "for i in range(len(forecast_results)-1):\n",
    "    if forecast_results.index[i].hour >= 18 or forecast_results.index[i].hour < 6:\n",
    "        plt.axvspan(forecast_results.index[i], forecast_results.index[i+1], \n",
    "                   alpha=0.2, color='gray', label='Night' if i == 0 else None)\n",
    "\n",
    "# Add annotations for key points\n",
    "max_idx = forecast_results['power_w'].idxmax()\n",
    "max_val = forecast_results.loc[max_idx, 'power_w']\n",
    "plt.annotate(f'Peak: {max_val:.2f} W', \n",
    "             xy=(max_idx, max_val),\n",
    "             xytext=(10, 20),\n",
    "             textcoords='offset points',\n",
    "             arrowprops=dict(arrowstyle='->', lw=1.5),\n",
    "             fontsize=12)\n",
    "\n",
    "# Format plot\n",
    "plt.title('24-Hour PV Power Forecast with Confidence Interval', fontsize=16)\n",
    "plt.xlabel('Time', fontsize=14)\n",
    "plt.ylabel('Power (W)', fontsize=14)\n",
    "plt.grid(True, linestyle='--', alpha=0.7)\n",
    "plt.legend(loc='upper left', fontsize=12)\n",
    "\n",
    "# Add daily energy production\n",
    "total_energy = forecast_results['power_w'].sum() / 1000  # kWh\n",
    "plt.text(0.02, 0.02, f'Total Energy: {total_energy:.2f} kWh', \n",
    "         transform=plt.gca().transAxes,\n",
    "         bbox=dict(facecolor='white', alpha=0.8, boxstyle='round,pad=0.5'),\n",
    "         fontsize=12)\n",
    "\n",
    "# Format x-axis with nicer time labels\n",
    "plt.gcf().autofmt_xdate()\n",
    "plt.tight_layout()\n",
    "plt.show()"
   ]
  },
  {
   "cell_type": "markdown",
   "metadata": {},
   "source": [
    "## 7. Export Forecast Results\n",
    "\n",
    "We can export the forecast results to various formats for further use."
   ]
  },
  {
   "cell_type": "code",
   "execution_count": null,
   "metadata": {},
   "outputs": [],
   "source": [
    "# Create output directory if it doesn't exist\n",
    "os.makedirs('data', exist_ok=True)\n",
    "\n",
    "# Export to CSV\n",
    "csv_path = 'data/pv_forecast_results.csv'\n",
    "forecast_results.to_csv(csv_path)\n",
    "print(f\"Forecast exported to CSV: {csv_path}\")\n",
    "\n",
    "# Export to JSON\n",
    "json_path = 'data/pv_forecast_results.json'\n",
    "forecast_json = forecast_results.reset_index().to_json(orient='records', date_format='iso')\n",
    "with open(json_path, 'w') as f:\n",
    "    f.write(forecast_json)\n",
    "print(f\"Forecast exported to JSON: {json_path}\")"
   ]
  },
  {
   "cell_type": "markdown",
   "metadata": {},
   "source": [
    "## 8. Analyzing Forecast Performance\n",
    "\n",
    "In a real-world scenario, we would compare the forecast with actual values after the fact to evaluate model performance.\n",
    "\n",
    "Here we'll simulate a comparison with synthetic \"actual\" data to demonstrate how you might perform such an analysis."
   ]
  },
  {
   "cell_type": "code",
   "execution_count": null,
   "metadata": {},
   "outputs": [],
   "source": [
    "# Create synthetic \"actual\" data (for demonstration only)\n",
    "# In a real scenario, this would be actual measured data after the forecast period\n",
    "np.random.seed(42)  # For reproducibility\n",
    "noise = np.random.normal(0, forecast_results['power_w'].max() * 0.1, len(forecast_results))\n",
    "actual_data = forecast_results.copy()\n",
    "actual_data['actual_power_w'] = forecast_results['power_w'] + noise\n",
    "actual_data['actual_power_w'] = actual_data['actual_power_w'].clip(lower=0)  # Ensure non-negative\n",
    "\n",
    "# Calculate performance metrics\n",
    "from sklearn.metrics import mean_squared_error, mean_absolute_error, r2_score\n",
    "\n",
    "rmse = np.sqrt(mean_squared_error(actual_data['actual_power_w'], actual_data['power_w']))\n",
    "mae = mean_absolute_error(actual_data['actual_power_w'], actual_data['power_w'])\n",
    "r2 = r2_score(actual_data['actual_power_w'], actual_data['power_w'])\n",
    "\n",
    "# Display metrics\n",
    "print(f\"RMSE: {rmse:.2f} W\")\n",
    "print(f\"MAE: {mae:.2f} W\")\n",
    "print(f\"R²: {r2:.4f}\")\n",
    "\n",
    "# Plot comparison\n",
    "plt.figure(figsize=(14, 7))\n",
    "plt.plot(actual_data.index, actual_data['power_w'], 'b-', linewidth=2, label='Forecast')\n",
    "plt.plot(actual_data.index, actual_data['actual_power_w'], 'r-', linewidth=2, label='Actual (Simulated)')\n",
    "plt.title('Forecast vs. Actual PV Power Output (Simulation)', fontsize=16)\n",
    "plt.xlabel('Time', fontsize=14)\n",
    "plt.ylabel('Power (W)', fontsize=14)\n",
    "plt.grid(True, linestyle='--', alpha=0.7)\n",
    "plt.legend(fontsize=12)\n",
    "plt.gcf().autofmt_xdate()\n",
    "plt.tight_layout()\n",
    "plt.show()"
   ]
  },
  {
   "cell_type": "markdown",
   "metadata": {},
   "source": [
    "## 9. Conclusion and Key Insights\n",
    "\n",
    "This notebook demonstrates a complete workflow for PV power forecasting using an LSTM model:\n",
    "\n",
    "1. The model effectively captures the diurnal pattern of solar energy production\n",
    "2. Weather forecast data is integrated to improve prediction accuracy\n",
    "3. Iterative prediction allows for hourly forecasts over the next 24-hour period\n",
    "4. The results can be visualized and exported in various formats\n",
    "\n",
    "These forecasts can be used for:\n",
    "- Energy management and planning\n",
    "- Grid integration of renewable energy\n",
    "- Optimizing battery storage systems\n",
    "- Cost savings through demand-side management\n",
    "\n",
    "For production use, consider implementing automated data pipelines and regular model retraining as more historical data becomes available."
   ]
  }
 ],
 "metadata": {
  "kernelspec": {
   "display_name": "Python 3",
   "language": "python",
   "name": "python3"
  },
  "language_info": {
   "codemirror_mode": {
    "name": "ipython",
    "version": 3
   },
   "file_extension": ".py",
   "mimetype": "text/x-python",
   "name": "python",
   "nbconvert_exporter": "python",
   "pygments_lexer": "ipython3",
   "version": "3.8.10"
  }
 },
 "nbformat": 4,
 "nbformat_minor": 4
}