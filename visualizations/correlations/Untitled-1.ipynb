{
 "cells": [
  {
   "cell_type": "code",
   "execution_count": null,
   "id": "9859fec3",
   "metadata": {},
   "outputs": [],
   "source": [
    "# Loaded variable 'df' from URI: c:\\Users\\micha\\PycharmProjects\\pvforecast\\data\\station_data_10min.parquet\n",
    "import pandas as pd\n",
    "df = pd.read_parquet(r'c:\\Users\\micha\\PycharmProjects\\pvforecast\\data\\station_data_10min.parquet')"
   ]
  }
 ],
 "metadata": {
  "kernelspec": {
   "display_name": "base",
   "language": "python",
   "name": "python3"
  },
  "language_info": {
   "codemirror_mode": {
    "name": "ipython",
    "version": 3
   },
   "file_extension": ".py",
   "mimetype": "text/x-python",
   "name": "python",
   "nbconvert_exporter": "python",
   "pygments_lexer": "ipython3",
   "version": "3.9.13"
  }
 },
 "nbformat": 4,
 "nbformat_minor": 5
}
